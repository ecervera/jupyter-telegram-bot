{
 "cells": [
  {
   "cell_type": "code",
   "execution_count": 1,
   "metadata": {},
   "outputs": [],
   "source": [
    "from telegram import (ReplyKeyboardMarkup, ReplyKeyboardRemove)\n",
    "from telegram.ext import (Updater, CommandHandler, MessageHandler, Filters, RegexHandler,\n",
    "                          ConversationHandler)\n",
    "\n",
    "import logging"
   ]
  },
  {
   "cell_type": "code",
   "execution_count": 2,
   "metadata": {},
   "outputs": [],
   "source": [
    "logging.basicConfig(format='%(asctime)s - %(name)s - %(levelname)s - %(message)s',\n",
    "                    level=logging.INFO)\n",
    "\n",
    "logger = logging.getLogger(__name__)"
   ]
  },
  {
   "cell_type": "code",
   "execution_count": 3,
   "metadata": {},
   "outputs": [],
   "source": [
    "GENDER, PHOTO, LOCATION, BIO = range(4)"
   ]
  },
  {
   "cell_type": "code",
   "execution_count": 4,
   "metadata": {},
   "outputs": [],
   "source": [
    "def start(bot, update):\n",
    "    reply_keyboard = [['Boy', 'Girl', 'Other']]\n",
    "\n",
    "    update.message.reply_text(\n",
    "        'Hi! My name is Professor Bot. I will hold a conversation with you. '\n",
    "        'Send /cancel to stop talking to me.\\n\\n'\n",
    "        'Are you a boy or a girl?',\n",
    "        reply_markup=ReplyKeyboardMarkup(reply_keyboard, one_time_keyboard=True))\n",
    "\n",
    "    return GENDER"
   ]
  },
  {
   "cell_type": "code",
   "execution_count": 5,
   "metadata": {},
   "outputs": [],
   "source": [
    "def gender(bot, update):\n",
    "    user = update.message.from_user\n",
    "    logger.info(\"Gender of %s: %s\", user.first_name, update.message.text)\n",
    "    update.message.reply_text('I see! Please send me a photo of yourself, '\n",
    "                              'so I know what you look like, or send /skip if you don\\'t want to.',\n",
    "                              reply_markup=ReplyKeyboardRemove())\n",
    "\n",
    "    return PHOTO"
   ]
  },
  {
   "cell_type": "code",
   "execution_count": 6,
   "metadata": {},
   "outputs": [],
   "source": [
    "def photo(bot, update):\n",
    "    user = update.message.from_user\n",
    "    photo_file = bot.get_file(update.message.photo[-1].file_id)\n",
    "    photo_file.download('user_photo.jpg')\n",
    "    logger.info(\"Photo of %s: %s\", user.first_name, 'user_photo.jpg')\n",
    "    update.message.reply_text('Gorgeous! Now, send me your location please, '\n",
    "                              'or send /skip if you don\\'t want to.')\n",
    "\n",
    "    return LOCATION"
   ]
  },
  {
   "cell_type": "code",
   "execution_count": 7,
   "metadata": {},
   "outputs": [],
   "source": [
    "def skip_photo(bot, update):\n",
    "    user = update.message.from_user\n",
    "    logger.info(\"User %s did not send a photo.\", user.first_name)\n",
    "    update.message.reply_text('I bet you look great! Now, send me your location please, '\n",
    "                              'or send /skip.')\n",
    "\n",
    "    return LOCATION"
   ]
  },
  {
   "cell_type": "code",
   "execution_count": 8,
   "metadata": {},
   "outputs": [],
   "source": [
    "def location(bot, update):\n",
    "    user = update.message.from_user\n",
    "    user_location = update.message.location\n",
    "    logger.info(\"Location of %s: %f / %f\", user.first_name, user_location.latitude,\n",
    "                user_location.longitude)\n",
    "    update.message.reply_text('Maybe I can visit you sometime! '\n",
    "                              'At last, tell me something about yourself.')\n",
    "\n",
    "    return BIO"
   ]
  },
  {
   "cell_type": "code",
   "execution_count": 9,
   "metadata": {},
   "outputs": [],
   "source": [
    "def skip_location(bot, update):\n",
    "    user = update.message.from_user\n",
    "    logger.info(\"User %s did not send a location.\", user.first_name)\n",
    "    update.message.reply_text('You seem a bit paranoid! '\n",
    "                              'At last, tell me something about yourself.')\n",
    "\n",
    "    return BIO"
   ]
  },
  {
   "cell_type": "code",
   "execution_count": 10,
   "metadata": {},
   "outputs": [],
   "source": [
    "def bio(bot, update):\n",
    "    user = update.message.from_user\n",
    "    logger.info(\"Bio of %s: %s\", user.first_name, update.message.text)\n",
    "    update.message.reply_text('Thank you! I hope we can talk again some day.')\n",
    "\n",
    "    return ConversationHandler.END"
   ]
  },
  {
   "cell_type": "code",
   "execution_count": 11,
   "metadata": {},
   "outputs": [],
   "source": [
    "def cancel(bot, update):\n",
    "    user = update.message.from_user\n",
    "    logger.info(\"User %s canceled the conversation.\", user.first_name)\n",
    "    update.message.reply_text('Bye! I hope we can talk again some day.',\n",
    "                              reply_markup=ReplyKeyboardRemove())\n",
    "\n",
    "    return ConversationHandler.END"
   ]
  },
  {
   "cell_type": "code",
   "execution_count": 12,
   "metadata": {},
   "outputs": [],
   "source": [
    "def error(bot, update, error):\n",
    "    \"\"\"Log Errors caused by Updates.\"\"\"\n",
    "    logger.warning('Update \"%s\" caused error \"%s\"', update, error)"
   ]
  },
  {
   "cell_type": "code",
   "execution_count": null,
   "metadata": {},
   "outputs": [],
   "source": [
    "updater = Updater(\"TOKEN\")"
   ]
  },
  {
   "cell_type": "code",
   "execution_count": null,
   "metadata": {},
   "outputs": [],
   "source": [
    "dp = updater.dispatcher"
   ]
  },
  {
   "cell_type": "code",
   "execution_count": null,
   "metadata": {},
   "outputs": [],
   "source": [
    "conv_handler = ConversationHandler(\n",
    "    entry_points=[CommandHandler('start', start)],\n",
    "\n",
    "    states={\n",
    "        GENDER: [RegexHandler('^(Boy|Girl|Other)$', gender)],\n",
    "\n",
    "        PHOTO: [MessageHandler(Filters.photo, photo),\n",
    "                CommandHandler('skip', skip_photo)],\n",
    "\n",
    "        LOCATION: [MessageHandler(Filters.location, location),\n",
    "                   CommandHandler('skip', skip_location)],\n",
    "\n",
    "        BIO: [MessageHandler(Filters.text, bio)]\n",
    "    },\n",
    "\n",
    "    fallbacks=[CommandHandler('cancel', cancel)]\n",
    ")\n",
    "\n",
    "dp.add_handler(conv_handler)"
   ]
  },
  {
   "cell_type": "code",
   "execution_count": null,
   "metadata": {},
   "outputs": [],
   "source": [
    "dp.add_error_handler(error)"
   ]
  },
  {
   "cell_type": "code",
   "execution_count": null,
   "metadata": {},
   "outputs": [],
   "source": [
    "updater.start_polling()"
   ]
  }
 ],
 "metadata": {
  "kernelspec": {
   "display_name": "Python 3",
   "language": "python",
   "name": "python3"
  },
  "language_info": {
   "codemirror_mode": {
    "name": "ipython",
    "version": 3
   },
   "file_extension": ".py",
   "mimetype": "text/x-python",
   "name": "python",
   "nbconvert_exporter": "python",
   "pygments_lexer": "ipython3",
   "version": "3.6.6"
  }
 },
 "nbformat": 4,
 "nbformat_minor": 2
}
